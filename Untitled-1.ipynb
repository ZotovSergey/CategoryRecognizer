{
 "cells": [
  {
   "cell_type": "code",
   "execution_count": 1,
   "metadata": {},
   "outputs": [],
   "source": [
    "import pandas as pd\n",
    "import numpy as np\n",
    "import chardet"
   ]
  },
  {
   "cell_type": "code",
   "execution_count": 6,
   "metadata": {},
   "outputs": [],
   "source": [
    "input_path = r\"D:\\Data\\МегаПоиск\\SKU для разметки\\unique_sku_sep_tab (test2).csv\"\n",
    "output_path = r\"D:\\Data\\МегаПоиск\\SKU для разметки\\unique_sku_sep_tab (test2).xlsx\""
   ]
  },
  {
   "cell_type": "code",
   "execution_count": 7,
   "metadata": {},
   "outputs": [],
   "source": [
    "full_data = pd.read_csv(input_path, sep=\"\\t\", keep_default_na=False, skip_blank_lines=False)"
   ]
  },
  {
   "cell_type": "code",
   "execution_count": 8,
   "metadata": {},
   "outputs": [
    {
     "data": {
      "text/html": [
       "<div>\n",
       "<style scoped>\n",
       "    .dataframe tbody tr th:only-of-type {\n",
       "        vertical-align: middle;\n",
       "    }\n",
       "\n",
       "    .dataframe tbody tr th {\n",
       "        vertical-align: top;\n",
       "    }\n",
       "\n",
       "    .dataframe thead th {\n",
       "        text-align: right;\n",
       "    }\n",
       "</style>\n",
       "<table border=\"1\" class=\"dataframe\">\n",
       "  <thead>\n",
       "    <tr style=\"text-align: right;\">\n",
       "      <th></th>\n",
       "      <th>name</th>\n",
       "    </tr>\n",
       "  </thead>\n",
       "  <tbody>\n",
       "    <tr>\n",
       "      <th>0</th>\n",
       "      <td></td>\n",
       "    </tr>\n",
       "    <tr>\n",
       "      <th>1</th>\n",
       "      <td></td>\n",
       "    </tr>\n",
       "    <tr>\n",
       "      <th>2</th>\n",
       "      <td></td>\n",
       "    </tr>\n",
       "    <tr>\n",
       "      <th>3</th>\n",
       "      <td></td>\n",
       "    </tr>\n",
       "    <tr>\n",
       "      <th>4</th>\n",
       "      <td>напиток пепси макс 1л</td>\n",
       "    </tr>\n",
       "    <tr>\n",
       "      <th>...</th>\n",
       "      <td>...</td>\n",
       "    </tr>\n",
       "    <tr>\n",
       "      <th>118</th>\n",
       "      <td>*дан.пр.тв.хр.шар.130г</td>\n",
       "    </tr>\n",
       "    <tr>\n",
       "      <th>119</th>\n",
       "      <td>*дан.пр.тв.черника 130г</td>\n",
       "    </tr>\n",
       "    <tr>\n",
       "      <th>120</th>\n",
       "      <td>пряник тульский с вар.сгущ.140г</td>\n",
       "    </tr>\n",
       "    <tr>\n",
       "      <th>121</th>\n",
       "      <td>*прост.сметана 20% 300г</td>\n",
       "    </tr>\n",
       "    <tr>\n",
       "      <th>122</th>\n",
       "      <td>от звезд.тесто слоен.бездр.500г</td>\n",
       "    </tr>\n",
       "  </tbody>\n",
       "</table>\n",
       "<p>123 rows × 1 columns</p>\n",
       "</div>"
      ],
      "text/plain": [
       "                                name\n",
       "0                                   \n",
       "1                                   \n",
       "2                                   \n",
       "3                                   \n",
       "4              напиток пепси макс 1л\n",
       "..                               ...\n",
       "118           *дан.пр.тв.хр.шар.130г\n",
       "119          *дан.пр.тв.черника 130г\n",
       "120  пряник тульский с вар.сгущ.140г\n",
       "121          *прост.сметана 20% 300г\n",
       "122  от звезд.тесто слоен.бездр.500г\n",
       "\n",
       "[123 rows x 1 columns]"
      ]
     },
     "execution_count": 8,
     "metadata": {},
     "output_type": "execute_result"
    }
   ],
   "source": [
    "full_data"
   ]
  },
  {
   "cell_type": "code",
   "execution_count": 9,
   "metadata": {},
   "outputs": [],
   "source": [
    "full_data.to_excel(output_path, index=False) "
   ]
  },
  {
   "cell_type": "code",
   "execution_count": 51,
   "metadata": {},
   "outputs": [
    {
     "data": {
      "text/html": [
       "<div>\n",
       "<style scoped>\n",
       "    .dataframe tbody tr th:only-of-type {\n",
       "        vertical-align: middle;\n",
       "    }\n",
       "\n",
       "    .dataframe tbody tr th {\n",
       "        vertical-align: top;\n",
       "    }\n",
       "\n",
       "    .dataframe thead th {\n",
       "        text-align: right;\n",
       "    }\n",
       "</style>\n",
       "<table border=\"1\" class=\"dataframe\">\n",
       "  <thead>\n",
       "    <tr style=\"text-align: right;\">\n",
       "      <th></th>\n",
       "      <th>SKU</th>\n",
       "      <th>Возвращаемое значение</th>\n",
       "    </tr>\n",
       "  </thead>\n",
       "  <tbody>\n",
       "    <tr>\n",
       "      <th>0</th>\n",
       "      <td>напиток пепси макс 1л</td>\n",
       "      <td>ЛИМОНАД/СЛАД.ГАЗИРОВК;ЛИМОНАД;СЛАДКИЕ ГАЗИРОВА...</td>\n",
       "    </tr>\n",
       "    <tr>\n",
       "      <th>1</th>\n",
       "      <td>батончик твикс соленая карамель 55г</td>\n",
       "      <td>БАТОНЧИК ШОКОЛАДНЫЙ;БАТОНЧИК ШОКОЛАДНЫЙ;ШОКОЛА...</td>\n",
       "    </tr>\n",
       "    <tr>\n",
       "      <th>2</th>\n",
       "      <td>му-муйка конф.глаз.\"му-муйка\"со вк. сливок вес...</td>\n",
       "      <td>КОНФЕТЫ;КОНФЕТЫ;КОНФЕТЫ;КОНДИТЕРКА;КНХЛ</td>\n",
       "    </tr>\n",
       "    <tr>\n",
       "      <th>3</th>\n",
       "      <td>мак.изд.\"дон макарон гурман\" вермишель гр.а в/...</td>\n",
       "      <td>МАКАРОНЫ;МАКАРОНЫ ФИГУРНЫЕ;МАКАРОННЫЕ ИЗДЕЛИЯ;...</td>\n",
       "    </tr>\n",
       "    <tr>\n",
       "      <th>4</th>\n",
       "      <td>кетчуп \"русский аппетит\" томатный 250г д/п.</td>\n",
       "      <td>КЕТЧУП;КЕТЧУП;СОУС;СОУСЫ;БАКЛ</td>\n",
       "    </tr>\n",
       "  </tbody>\n",
       "</table>\n",
       "</div>"
      ],
      "text/plain": [
       "                                                 SKU  \\\n",
       "0                              напиток пепси макс 1л   \n",
       "1                батончик твикс соленая карамель 55г   \n",
       "2  му-муйка конф.глаз.\"му-муйка\"со вк. сливок вес...   \n",
       "3  мак.изд.\"дон макарон гурман\" вермишель гр.а в/...   \n",
       "4        кетчуп \"русский аппетит\" томатный 250г д/п.   \n",
       "\n",
       "                               Возвращаемое значение  \n",
       "0  ЛИМОНАД/СЛАД.ГАЗИРОВК;ЛИМОНАД;СЛАДКИЕ ГАЗИРОВА...  \n",
       "1  БАТОНЧИК ШОКОЛАДНЫЙ;БАТОНЧИК ШОКОЛАДНЫЙ;ШОКОЛА...  \n",
       "2            КОНФЕТЫ;КОНФЕТЫ;КОНФЕТЫ;КОНДИТЕРКА;КНХЛ  \n",
       "3  МАКАРОНЫ;МАКАРОНЫ ФИГУРНЫЕ;МАКАРОННЫЕ ИЗДЕЛИЯ;...  \n",
       "4                      КЕТЧУП;КЕТЧУП;СОУС;СОУСЫ;БАКЛ  "
      ]
     },
     "execution_count": 51,
     "metadata": {},
     "output_type": "execute_result"
    }
   ],
   "source": [
    "path = \"D:\\Data\\МегаПоиск\\Return\\go_ex_test.csv\"\n",
    "encoding = chardet.detect(open(path, 'rb').read())['encoding']\n",
    "go_df = pd.read_csv(path, sep='\\t', encoding=encoding).fillna(\"\")\n",
    "go_df.head()"
   ]
  },
  {
   "cell_type": "code",
   "execution_count": 52,
   "metadata": {},
   "outputs": [
    {
     "data": {
      "text/html": [
       "<div>\n",
       "<style scoped>\n",
       "    .dataframe tbody tr th:only-of-type {\n",
       "        vertical-align: middle;\n",
       "    }\n",
       "\n",
       "    .dataframe tbody tr th {\n",
       "        vertical-align: top;\n",
       "    }\n",
       "\n",
       "    .dataframe thead th {\n",
       "        text-align: right;\n",
       "    }\n",
       "</style>\n",
       "<table border=\"1\" class=\"dataframe\">\n",
       "  <thead>\n",
       "    <tr style=\"text-align: right;\">\n",
       "      <th></th>\n",
       "      <th>SKU</th>\n",
       "      <th>Возвращаемое значение</th>\n",
       "    </tr>\n",
       "  </thead>\n",
       "  <tbody>\n",
       "    <tr>\n",
       "      <th>0</th>\n",
       "      <td>напиток пепси макс 1л</td>\n",
       "      <td>ЛИМОНАД/СЛАД.ГАЗИРОВК;ЛИМОНАД;СЛАДКИЕ ГАЗИРОВА...</td>\n",
       "    </tr>\n",
       "    <tr>\n",
       "      <th>1</th>\n",
       "      <td>батончик твикс соленая карамель 55г</td>\n",
       "      <td>БАТОНЧИК ШОКОЛАДНЫЙ;БАТОНЧИК ШОКОЛАДНЫЙ;ШОКОЛА...</td>\n",
       "    </tr>\n",
       "    <tr>\n",
       "      <th>2</th>\n",
       "      <td>му-муйка конф.глаз.\"му-муйка\"со вк. сливок вес...</td>\n",
       "      <td>КОНФЕТЫ;КОНФЕТЫ;КОНФЕТЫ;КОНДИТЕРКА;КНХЛ</td>\n",
       "    </tr>\n",
       "    <tr>\n",
       "      <th>3</th>\n",
       "      <td>мак.изд.\"дон макарон гурман\" вермишель гр.а в/...</td>\n",
       "      <td>МАКАРОНЫ;МАКАРОНЫ ФИГУРНЫЕ;МАКАРОННЫЕ ИЗДЕЛИЯ;...</td>\n",
       "    </tr>\n",
       "    <tr>\n",
       "      <th>4</th>\n",
       "      <td>кетчуп \"русский аппетит\" томатный 250г д/п.</td>\n",
       "      <td>КЕТЧУП;КЕТЧУП;СОУС;СОУСЫ;БАКЛ</td>\n",
       "    </tr>\n",
       "  </tbody>\n",
       "</table>\n",
       "</div>"
      ],
      "text/plain": [
       "                                                 SKU  \\\n",
       "0                              напиток пепси макс 1л   \n",
       "1                батончик твикс соленая карамель 55г   \n",
       "2  му-муйка конф.глаз.\"му-муйка\"со вк. сливок вес...   \n",
       "3  мак.изд.\"дон макарон гурман\" вермишель гр.а в/...   \n",
       "4        кетчуп \"русский аппетит\" томатный 250г д/п.   \n",
       "\n",
       "                               Возвращаемое значение  \n",
       "0  ЛИМОНАД/СЛАД.ГАЗИРОВК;ЛИМОНАД;СЛАДКИЕ ГАЗИРОВА...  \n",
       "1  БАТОНЧИК ШОКОЛАДНЫЙ;БАТОНЧИК ШОКОЛАДНЫЙ;ШОКОЛА...  \n",
       "2            КОНФЕТЫ;КОНФЕТЫ;КОНФЕТЫ;КОНДИТЕРКА;КНХЛ  \n",
       "3  МАКАРОНЫ;МАКАРОНЫ ФИГУРНЫЕ;МАКАРОННЫЕ ИЗДЕЛИЯ;...  \n",
       "4                      КЕТЧУП;КЕТЧУП;СОУС;СОУСЫ;БАКЛ  "
      ]
     },
     "execution_count": 52,
     "metadata": {},
     "output_type": "execute_result"
    }
   ],
   "source": [
    "py_df = pd.read_csv(\"D:\\Data\\МегаПоиск\\Return\\go_test.csv\", sep='\\t').fillna(\"\")\n",
    "py_df.head()"
   ]
  },
  {
   "cell_type": "code",
   "execution_count": 53,
   "metadata": {},
   "outputs": [
    {
     "data": {
      "text/plain": [
       "115"
      ]
     },
     "execution_count": 53,
     "metadata": {},
     "output_type": "execute_result"
    }
   ],
   "source": [
    "len(py_df)"
   ]
  },
  {
   "cell_type": "code",
   "execution_count": 54,
   "metadata": {},
   "outputs": [
    {
     "data": {
      "text/plain": [
       "115"
      ]
     },
     "execution_count": 54,
     "metadata": {},
     "output_type": "execute_result"
    }
   ],
   "source": [
    "len(go_df)"
   ]
  },
  {
   "cell_type": "code",
   "execution_count": 55,
   "metadata": {},
   "outputs": [],
   "source": [
    "err_inx = np.where(go_df[\"SKU\"] != py_df[\"SKU\"])[0]"
   ]
  },
  {
   "cell_type": "code",
   "execution_count": 56,
   "metadata": {},
   "outputs": [
    {
     "data": {
      "text/plain": [
       "0"
      ]
     },
     "execution_count": 56,
     "metadata": {},
     "output_type": "execute_result"
    }
   ],
   "source": [
    "len(err_inx)"
   ]
  },
  {
   "cell_type": "code",
   "execution_count": 57,
   "metadata": {},
   "outputs": [
    {
     "data": {
      "text/html": [
       "<div>\n",
       "<style scoped>\n",
       "    .dataframe tbody tr th:only-of-type {\n",
       "        vertical-align: middle;\n",
       "    }\n",
       "\n",
       "    .dataframe tbody tr th {\n",
       "        vertical-align: top;\n",
       "    }\n",
       "\n",
       "    .dataframe thead th {\n",
       "        text-align: right;\n",
       "    }\n",
       "</style>\n",
       "<table border=\"1\" class=\"dataframe\">\n",
       "  <thead>\n",
       "    <tr style=\"text-align: right;\">\n",
       "      <th></th>\n",
       "      <th>py</th>\n",
       "      <th>go</th>\n",
       "    </tr>\n",
       "  </thead>\n",
       "  <tbody>\n",
       "  </tbody>\n",
       "</table>\n",
       "</div>"
      ],
      "text/plain": [
       "Empty DataFrame\n",
       "Columns: [py, go]\n",
       "Index: []"
      ]
     },
     "execution_count": 57,
     "metadata": {},
     "output_type": "execute_result"
    }
   ],
   "source": [
    "pd.DataFrame({\"py\": py_df.loc[err_inx][\"SKU\"], \"go\": go_df.loc[err_inx][\"SKU\"]})"
   ]
  },
  {
   "cell_type": "code",
   "execution_count": 58,
   "metadata": {},
   "outputs": [
    {
     "ename": "KeyError",
     "evalue": "6660",
     "output_type": "error",
     "traceback": [
      "\u001b[1;31m---------------------------------------------------------------------------\u001b[0m",
      "\u001b[1;31mValueError\u001b[0m                                Traceback (most recent call last)",
      "File \u001b[1;32mc:\\Users\\ykazanskiy\\AppData\\Local\\Programs\\Python\\Python310\\lib\\site-packages\\pandas\\core\\indexes\\range.py:385\u001b[0m, in \u001b[0;36mRangeIndex.get_loc\u001b[1;34m(self, key, method, tolerance)\u001b[0m\n\u001b[0;32m    384\u001b[0m \u001b[39mtry\u001b[39;00m:\n\u001b[1;32m--> 385\u001b[0m     \u001b[39mreturn\u001b[39;00m \u001b[39mself\u001b[39;49m\u001b[39m.\u001b[39;49m_range\u001b[39m.\u001b[39;49mindex(new_key)\n\u001b[0;32m    386\u001b[0m \u001b[39mexcept\u001b[39;00m \u001b[39mValueError\u001b[39;00m \u001b[39mas\u001b[39;00m err:\n",
      "\u001b[1;31mValueError\u001b[0m: 6660 is not in range",
      "\nThe above exception was the direct cause of the following exception:\n",
      "\u001b[1;31mKeyError\u001b[0m                                  Traceback (most recent call last)",
      "\u001b[1;32md:\\Projects\\МегаПоиск\\CategoryRecognizer\\Untitled-1.ipynb Ячейка 10\u001b[0m in \u001b[0;36m<cell line: 1>\u001b[1;34m()\u001b[0m\n\u001b[1;32m----> <a href='vscode-notebook-cell:/d%3A/Projects/%D0%9C%D0%B5%D0%B3%D0%B0%D0%9F%D0%BE%D0%B8%D1%81%D0%BA/CategoryRecognizer/Untitled-1.ipynb#ch0000008?line=0'>1</a>\u001b[0m py_df\u001b[39m.\u001b[39;49mloc[\u001b[39m6660\u001b[39;49m][\u001b[39m\"\u001b[39m\u001b[39mSKU\u001b[39m\u001b[39m\"\u001b[39m]\n",
      "File \u001b[1;32mc:\\Users\\ykazanskiy\\AppData\\Local\\Programs\\Python\\Python310\\lib\\site-packages\\pandas\\core\\indexing.py:967\u001b[0m, in \u001b[0;36m_LocationIndexer.__getitem__\u001b[1;34m(self, key)\u001b[0m\n\u001b[0;32m    964\u001b[0m axis \u001b[39m=\u001b[39m \u001b[39mself\u001b[39m\u001b[39m.\u001b[39maxis \u001b[39mor\u001b[39;00m \u001b[39m0\u001b[39m\n\u001b[0;32m    966\u001b[0m maybe_callable \u001b[39m=\u001b[39m com\u001b[39m.\u001b[39mapply_if_callable(key, \u001b[39mself\u001b[39m\u001b[39m.\u001b[39mobj)\n\u001b[1;32m--> 967\u001b[0m \u001b[39mreturn\u001b[39;00m \u001b[39mself\u001b[39;49m\u001b[39m.\u001b[39;49m_getitem_axis(maybe_callable, axis\u001b[39m=\u001b[39;49maxis)\n",
      "File \u001b[1;32mc:\\Users\\ykazanskiy\\AppData\\Local\\Programs\\Python\\Python310\\lib\\site-packages\\pandas\\core\\indexing.py:1202\u001b[0m, in \u001b[0;36m_LocIndexer._getitem_axis\u001b[1;34m(self, key, axis)\u001b[0m\n\u001b[0;32m   1200\u001b[0m \u001b[39m# fall thru to straight lookup\u001b[39;00m\n\u001b[0;32m   1201\u001b[0m \u001b[39mself\u001b[39m\u001b[39m.\u001b[39m_validate_key(key, axis)\n\u001b[1;32m-> 1202\u001b[0m \u001b[39mreturn\u001b[39;00m \u001b[39mself\u001b[39;49m\u001b[39m.\u001b[39;49m_get_label(key, axis\u001b[39m=\u001b[39;49maxis)\n",
      "File \u001b[1;32mc:\\Users\\ykazanskiy\\AppData\\Local\\Programs\\Python\\Python310\\lib\\site-packages\\pandas\\core\\indexing.py:1153\u001b[0m, in \u001b[0;36m_LocIndexer._get_label\u001b[1;34m(self, label, axis)\u001b[0m\n\u001b[0;32m   1151\u001b[0m \u001b[39mdef\u001b[39;00m \u001b[39m_get_label\u001b[39m(\u001b[39mself\u001b[39m, label, axis: \u001b[39mint\u001b[39m):\n\u001b[0;32m   1152\u001b[0m     \u001b[39m# GH#5667 this will fail if the label is not present in the axis.\u001b[39;00m\n\u001b[1;32m-> 1153\u001b[0m     \u001b[39mreturn\u001b[39;00m \u001b[39mself\u001b[39;49m\u001b[39m.\u001b[39;49mobj\u001b[39m.\u001b[39;49mxs(label, axis\u001b[39m=\u001b[39;49maxis)\n",
      "File \u001b[1;32mc:\\Users\\ykazanskiy\\AppData\\Local\\Programs\\Python\\Python310\\lib\\site-packages\\pandas\\core\\generic.py:3864\u001b[0m, in \u001b[0;36mNDFrame.xs\u001b[1;34m(self, key, axis, level, drop_level)\u001b[0m\n\u001b[0;32m   3862\u001b[0m             new_index \u001b[39m=\u001b[39m index[loc]\n\u001b[0;32m   3863\u001b[0m \u001b[39melse\u001b[39;00m:\n\u001b[1;32m-> 3864\u001b[0m     loc \u001b[39m=\u001b[39m index\u001b[39m.\u001b[39;49mget_loc(key)\n\u001b[0;32m   3866\u001b[0m     \u001b[39mif\u001b[39;00m \u001b[39misinstance\u001b[39m(loc, np\u001b[39m.\u001b[39mndarray):\n\u001b[0;32m   3867\u001b[0m         \u001b[39mif\u001b[39;00m loc\u001b[39m.\u001b[39mdtype \u001b[39m==\u001b[39m np\u001b[39m.\u001b[39mbool_:\n",
      "File \u001b[1;32mc:\\Users\\ykazanskiy\\AppData\\Local\\Programs\\Python\\Python310\\lib\\site-packages\\pandas\\core\\indexes\\range.py:387\u001b[0m, in \u001b[0;36mRangeIndex.get_loc\u001b[1;34m(self, key, method, tolerance)\u001b[0m\n\u001b[0;32m    385\u001b[0m         \u001b[39mreturn\u001b[39;00m \u001b[39mself\u001b[39m\u001b[39m.\u001b[39m_range\u001b[39m.\u001b[39mindex(new_key)\n\u001b[0;32m    386\u001b[0m     \u001b[39mexcept\u001b[39;00m \u001b[39mValueError\u001b[39;00m \u001b[39mas\u001b[39;00m err:\n\u001b[1;32m--> 387\u001b[0m         \u001b[39mraise\u001b[39;00m \u001b[39mKeyError\u001b[39;00m(key) \u001b[39mfrom\u001b[39;00m \u001b[39merr\u001b[39;00m\n\u001b[0;32m    388\u001b[0m \u001b[39mself\u001b[39m\u001b[39m.\u001b[39m_check_indexing_error(key)\n\u001b[0;32m    389\u001b[0m \u001b[39mraise\u001b[39;00m \u001b[39mKeyError\u001b[39;00m(key)\n",
      "\u001b[1;31mKeyError\u001b[0m: 6660"
     ]
    }
   ],
   "source": [
    "py_df.loc[6660][\"SKU\"]"
   ]
  },
  {
   "cell_type": "code",
   "execution_count": 35,
   "metadata": {},
   "outputs": [
    {
     "data": {
      "text/plain": [
       "'1: 3148522 \\nпопкорн blockbuster         99г'"
      ]
     },
     "execution_count": 35,
     "metadata": {},
     "output_type": "execute_result"
    }
   ],
   "source": [
    "go_df.loc[6660][\"SKU\"]"
   ]
  },
  {
   "cell_type": "code",
   "execution_count": 76,
   "metadata": {},
   "outputs": [],
   "source": [
    "test_df = pd.read_csv(r\"D:\\Data\\МегаПоиск\\Return\\test.csv\", sep='\\t').fillna(\"\")"
   ]
  },
  {
   "cell_type": "code",
   "execution_count": 77,
   "metadata": {},
   "outputs": [
    {
     "data": {
      "text/html": [
       "<div>\n",
       "<style scoped>\n",
       "    .dataframe tbody tr th:only-of-type {\n",
       "        vertical-align: middle;\n",
       "    }\n",
       "\n",
       "    .dataframe tbody tr th {\n",
       "        vertical-align: top;\n",
       "    }\n",
       "\n",
       "    .dataframe thead th {\n",
       "        text-align: right;\n",
       "    }\n",
       "</style>\n",
       "<table border=\"1\" class=\"dataframe\">\n",
       "  <thead>\n",
       "    <tr style=\"text-align: right;\">\n",
       "      <th></th>\n",
       "      <th>SKU</th>\n",
       "      <th>Возвращаемое значение</th>\n",
       "    </tr>\n",
       "  </thead>\n",
       "  <tbody>\n",
       "    <tr>\n",
       "      <th>0</th>\n",
       "      <td>напиток пепси макс 1л</td>\n",
       "      <td>ЛИМОНАД/СЛАД.ГАЗИРОВК;ЛИМОНАД;СЛАДКИЕ ГАЗИРОВА...</td>\n",
       "    </tr>\n",
       "    <tr>\n",
       "      <th>1</th>\n",
       "      <td>батончик твикс соленая карамель 55г</td>\n",
       "      <td>БАТОНЧИК ШОКОЛАДНЫЙ;БАТОНЧИК ШОКОЛАДНЫЙ;ШОКОЛА...</td>\n",
       "    </tr>\n",
       "    <tr>\n",
       "      <th>2</th>\n",
       "      <td>му-муйка конф.глаз.\"му-муйка\"со вк. сливок вес...</td>\n",
       "      <td>КОНФЕТЫ;КОНФЕТЫ;КОНФЕТЫ;КОНДИТЕРКА;КНХЛ</td>\n",
       "    </tr>\n",
       "    <tr>\n",
       "      <th>3</th>\n",
       "      <td>мак.изд.\"дон макарон гурман\" вермишель гр.а в/...</td>\n",
       "      <td>МАКАРОНЫ;МАКАРОНЫ ФИГУРНЫЕ;МАКАРОННЫЕ ИЗДЕЛИЯ;...</td>\n",
       "    </tr>\n",
       "    <tr>\n",
       "      <th>4</th>\n",
       "      <td>кетчуп \"русский аппетит\" томатный 250г д/п.</td>\n",
       "      <td>КЕТЧУП;КЕТЧУП;СОУС;СОУСЫ;БАКЛ</td>\n",
       "    </tr>\n",
       "    <tr>\n",
       "      <th>5</th>\n",
       "      <td></td>\n",
       "      <td></td>\n",
       "    </tr>\n",
       "    <tr>\n",
       "      <th>6</th>\n",
       "      <td>na</td>\n",
       "      <td></td>\n",
       "    </tr>\n",
       "    <tr>\n",
       "      <th>7</th>\n",
       "      <td></td>\n",
       "      <td></td>\n",
       "    </tr>\n",
       "    <tr>\n",
       "      <th>8</th>\n",
       "      <td>nil</td>\n",
       "      <td></td>\n",
       "    </tr>\n",
       "    <tr>\n",
       "      <th>9</th>\n",
       "      <td></td>\n",
       "      <td></td>\n",
       "    </tr>\n",
       "    <tr>\n",
       "      <th>10</th>\n",
       "      <td>Null</td>\n",
       "      <td></td>\n",
       "    </tr>\n",
       "    <tr>\n",
       "      <th>11</th>\n",
       "      <td></td>\n",
       "      <td></td>\n",
       "    </tr>\n",
       "    <tr>\n",
       "      <th>12</th>\n",
       "      <td>огурцы тепличные \"эстафета\" вес.</td>\n",
       "      <td>ОГУРЕЦ;ОГУРЕЦ;ОВОЩИ ОСНОВНЫЕ;СВЕЖИЕ ОВОЩИ;ФРОВ</td>\n",
       "    </tr>\n",
       "    <tr>\n",
       "      <th>13</th>\n",
       "      <td>картофель красный вес.</td>\n",
       "      <td>КАРТОФЕЛЬ;КАРТОФЕЛЬ;КОРНЕПЛОДЫ;СВЕЖИЕ ОВОЩИ;ФРОВ</td>\n",
       "    </tr>\n",
       "    <tr>\n",
       "      <th>14</th>\n",
       "      <td>морковь вес</td>\n",
       "      <td>МОРКОВЬ;МОРКОВЬ;КОРНЕПЛОДЫ;СВЕЖИЕ ОВОЩИ;ФРОВ</td>\n",
       "    </tr>\n",
       "    <tr>\n",
       "      <th>15</th>\n",
       "      <td>[ 3328] форлакс пор. д/приг.р-ра д/приема внут...</td>\n",
       "      <td></td>\n",
       "    </tr>\n",
       "    <tr>\n",
       "      <th>16</th>\n",
       "      <td>картофель ранний импортный кг</td>\n",
       "      <td>КАРТОФЕЛЬ;КАРТОФЕЛЬ;КОРНЕПЛОДЫ;СВЕЖИЕ ОВОЩИ;ФРОВ</td>\n",
       "    </tr>\n",
       "    <tr>\n",
       "      <th>17</th>\n",
       "      <td>кофе молотый carte noire crema delice натураль...</td>\n",
       "      <td>КОФЕ МОЛОТОЫЙ;КОФЕ МОЛОТЫЙ;КОФЕ;ЧАЙ, КОФЕ;ЧКФК</td>\n",
       "    </tr>\n",
       "    <tr>\n",
       "      <th>18</th>\n",
       "      <td>кетчуп махеевъ томатный дп 700г</td>\n",
       "      <td>КЕТЧУП;КЕТЧУП;СОУС;СОУСЫ;БАКЛ</td>\n",
       "    </tr>\n",
       "    <tr>\n",
       "      <th>19</th>\n",
       "      <td>бзмж сметана из топленых сливок простоквашино ...</td>\n",
       "      <td>СМЕТАНА;СМЕТАНА;СМЕТАНА;МОЛОЧНАЯ ПРОДУКЦИЯ;МЛДП</td>\n",
       "    </tr>\n",
       "    <tr>\n",
       "      <th>20</th>\n",
       "      <td>кетчуп махеевъ шашлычный 300г д/п</td>\n",
       "      <td>КЕТЧУП;КЕТЧУП;СОУС;СОУСЫ;БАКЛ</td>\n",
       "    </tr>\n",
       "    <tr>\n",
       "      <th>21</th>\n",
       "      <td>бзмж молоко утп домик в деревне 2,5% 950г</td>\n",
       "      <td>МОЛОКО УЛЬТРАПАСТЕРИЗОВАННОЕ;МОЛОКО УЛЬТРАПАСТ...</td>\n",
       "    </tr>\n",
       "    <tr>\n",
       "      <th>22</th>\n",
       "      <td>бзмж творог кубанский молочник уманский 1,8% 340г</td>\n",
       "      <td>МОЛОЧНИК;ПИТЬЕВЫЕ ПРЕДМЕТЫ;ПОСУДА;ТОВАРЫ ДЛЯ Д...</td>\n",
       "    </tr>\n",
       "    <tr>\n",
       "      <th>23</th>\n",
       "      <td>бзмж творог агрокомплекс  5% 180г флоупак</td>\n",
       "      <td>ТВОРОГ ПРОЧИЙ;ТВОРОГ ПРОЧИЙ;ТВОРОЖНАЯ ГРУППА;М...</td>\n",
       "    </tr>\n",
       "    <tr>\n",
       "      <th>24</th>\n",
       "      <td>икра лососевая чингай 95г ж/б</td>\n",
       "      <td>ИКРА КРАСНАЯ;ИКРА КРАСНАЯ;ИКРА КРАСНАЯ;РЫБНАЯ ...</td>\n",
       "    </tr>\n",
       "    <tr>\n",
       "      <th>25</th>\n",
       "      <td>томаты сливовидные кг</td>\n",
       "      <td>ТОМАТ;ТОМАТ;ОВОЩИ ОСНОВНЫЕ;СВЕЖИЕ ОВОЩИ;ФРОВ</td>\n",
       "    </tr>\n",
       "    <tr>\n",
       "      <th>26</th>\n",
       "      <td>свинина шея без кости п/ф охлажденный кг</td>\n",
       "      <td>ПФ РУБЛЕННЫЕ СВИН ОХЛ;ПОЛУФАБРИКАТЫ РУБЛЕННЫЕ;...</td>\n",
       "    </tr>\n",
       "  </tbody>\n",
       "</table>\n",
       "</div>"
      ],
      "text/plain": [
       "                                                  SKU  \\\n",
       "0                               напиток пепси макс 1л   \n",
       "1                 батончик твикс соленая карамель 55г   \n",
       "2   му-муйка конф.глаз.\"му-муйка\"со вк. сливок вес...   \n",
       "3   мак.изд.\"дон макарон гурман\" вермишель гр.а в/...   \n",
       "4         кетчуп \"русский аппетит\" томатный 250г д/п.   \n",
       "5                                                       \n",
       "6                                                  na   \n",
       "7                                                       \n",
       "8                                                 nil   \n",
       "9                                                       \n",
       "10                                               Null   \n",
       "11                                                      \n",
       "12                   огурцы тепличные \"эстафета\" вес.   \n",
       "13                             картофель красный вес.   \n",
       "14                                        морковь вес   \n",
       "15  [ 3328] форлакс пор. д/приг.р-ра д/приема внут...   \n",
       "16                      картофель ранний импортный кг   \n",
       "17  кофе молотый carte noire crema delice натураль...   \n",
       "18                    кетчуп махеевъ томатный дп 700г   \n",
       "19  бзмж сметана из топленых сливок простоквашино ...   \n",
       "20                  кетчуп махеевъ шашлычный 300г д/п   \n",
       "21          бзмж молоко утп домик в деревне 2,5% 950г   \n",
       "22  бзмж творог кубанский молочник уманский 1,8% 340г   \n",
       "23          бзмж творог агрокомплекс  5% 180г флоупак   \n",
       "24                      икра лососевая чингай 95г ж/б   \n",
       "25                              томаты сливовидные кг   \n",
       "26           свинина шея без кости п/ф охлажденный кг   \n",
       "\n",
       "                                Возвращаемое значение  \n",
       "0   ЛИМОНАД/СЛАД.ГАЗИРОВК;ЛИМОНАД;СЛАДКИЕ ГАЗИРОВА...  \n",
       "1   БАТОНЧИК ШОКОЛАДНЫЙ;БАТОНЧИК ШОКОЛАДНЫЙ;ШОКОЛА...  \n",
       "2             КОНФЕТЫ;КОНФЕТЫ;КОНФЕТЫ;КОНДИТЕРКА;КНХЛ  \n",
       "3   МАКАРОНЫ;МАКАРОНЫ ФИГУРНЫЕ;МАКАРОННЫЕ ИЗДЕЛИЯ;...  \n",
       "4                       КЕТЧУП;КЕТЧУП;СОУС;СОУСЫ;БАКЛ  \n",
       "5                                                      \n",
       "6                                                      \n",
       "7                                                      \n",
       "8                                                      \n",
       "9                                                      \n",
       "10                                                     \n",
       "11                                                     \n",
       "12     ОГУРЕЦ;ОГУРЕЦ;ОВОЩИ ОСНОВНЫЕ;СВЕЖИЕ ОВОЩИ;ФРОВ  \n",
       "13   КАРТОФЕЛЬ;КАРТОФЕЛЬ;КОРНЕПЛОДЫ;СВЕЖИЕ ОВОЩИ;ФРОВ  \n",
       "14       МОРКОВЬ;МОРКОВЬ;КОРНЕПЛОДЫ;СВЕЖИЕ ОВОЩИ;ФРОВ  \n",
       "15                                                     \n",
       "16   КАРТОФЕЛЬ;КАРТОФЕЛЬ;КОРНЕПЛОДЫ;СВЕЖИЕ ОВОЩИ;ФРОВ  \n",
       "17     КОФЕ МОЛОТОЫЙ;КОФЕ МОЛОТЫЙ;КОФЕ;ЧАЙ, КОФЕ;ЧКФК  \n",
       "18                      КЕТЧУП;КЕТЧУП;СОУС;СОУСЫ;БАКЛ  \n",
       "19    СМЕТАНА;СМЕТАНА;СМЕТАНА;МОЛОЧНАЯ ПРОДУКЦИЯ;МЛДП  \n",
       "20                      КЕТЧУП;КЕТЧУП;СОУС;СОУСЫ;БАКЛ  \n",
       "21  МОЛОКО УЛЬТРАПАСТЕРИЗОВАННОЕ;МОЛОКО УЛЬТРАПАСТ...  \n",
       "22  МОЛОЧНИК;ПИТЬЕВЫЕ ПРЕДМЕТЫ;ПОСУДА;ТОВАРЫ ДЛЯ Д...  \n",
       "23  ТВОРОГ ПРОЧИЙ;ТВОРОГ ПРОЧИЙ;ТВОРОЖНАЯ ГРУППА;М...  \n",
       "24  ИКРА КРАСНАЯ;ИКРА КРАСНАЯ;ИКРА КРАСНАЯ;РЫБНАЯ ...  \n",
       "25       ТОМАТ;ТОМАТ;ОВОЩИ ОСНОВНЫЕ;СВЕЖИЕ ОВОЩИ;ФРОВ  \n",
       "26  ПФ РУБЛЕННЫЕ СВИН ОХЛ;ПОЛУФАБРИКАТЫ РУБЛЕННЫЕ;...  "
      ]
     },
     "execution_count": 77,
     "metadata": {},
     "output_type": "execute_result"
    }
   ],
   "source": [
    "test_df"
   ]
  },
  {
   "cell_type": "code",
   "execution_count": null,
   "metadata": {},
   "outputs": [],
   "source": []
  }
 ],
 "metadata": {
  "kernelspec": {
   "display_name": "Python 3.10.4 64-bit",
   "language": "python",
   "name": "python3"
  },
  "language_info": {
   "codemirror_mode": {
    "name": "ipython",
    "version": 3
   },
   "file_extension": ".py",
   "mimetype": "text/x-python",
   "name": "python",
   "nbconvert_exporter": "python",
   "pygments_lexer": "ipython3",
   "version": "3.10.4"
  },
  "orig_nbformat": 4,
  "vscode": {
   "interpreter": {
    "hash": "f015c67e5cdb7c5d40fba7b8d72e35a594d42e7c0cca16c0c55de6839dc29688"
   }
  }
 },
 "nbformat": 4,
 "nbformat_minor": 2
}
